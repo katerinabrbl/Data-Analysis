{
 "cells": [
  {
   "cell_type": "code",
   "execution_count": 1,
   "id": "c1f86e56",
   "metadata": {},
   "outputs": [],
   "source": [
    "import pandas as pd \n",
    "import numpy as np \n",
    "import matplotlib.pyplot as plt \n",
    "import seaborn as sns\n",
    "from sklearn.preprocessing import LabelEncoder\n",
    "from sklearn.preprocessing import MinMaxScaler\n",
    "from sklearn.metrics import accuracy_score\n",
    "from sklearn.metrics import classification_report\n",
    "from sklearn.metrics import confusion_matrix\n",
    "from sklearn.model_selection import train_test_split\n",
    "from sklearn.tree import DecisionTreeClassifier\n",
    "from sklearn.ensemble import RandomForestClassifier\n",
    "from sklearn.ensemble import AdaBoostClassifier\n",
    "from sklearn.neighbors import KNeighborsClassifier\n",
    "from sklearn.svm import SVC\n",
    "from sklearn.model_selection import GridSearchCV\n",
    "from sklearn.tree import plot_tree"
   ]
  },
  {
   "cell_type": "code",
   "execution_count": 2,
   "id": "ba247a7f",
   "metadata": {},
   "outputs": [
    {
     "data": {
      "text/html": [
       "<div>\n",
       "<style scoped>\n",
       "    .dataframe tbody tr th:only-of-type {\n",
       "        vertical-align: middle;\n",
       "    }\n",
       "\n",
       "    .dataframe tbody tr th {\n",
       "        vertical-align: top;\n",
       "    }\n",
       "\n",
       "    .dataframe thead th {\n",
       "        text-align: right;\n",
       "    }\n",
       "</style>\n",
       "<table border=\"1\" class=\"dataframe\">\n",
       "  <thead>\n",
       "    <tr style=\"text-align: right;\">\n",
       "      <th></th>\n",
       "      <th>squareMeters</th>\n",
       "      <th>numberOfRooms</th>\n",
       "      <th>hasYard</th>\n",
       "      <th>hasPool</th>\n",
       "      <th>floors</th>\n",
       "      <th>cityCode</th>\n",
       "      <th>cityPartRange</th>\n",
       "      <th>numPrevOwners</th>\n",
       "      <th>made</th>\n",
       "      <th>isNewBuilt</th>\n",
       "      <th>hasStormProtector</th>\n",
       "      <th>basement</th>\n",
       "      <th>attic</th>\n",
       "      <th>garage</th>\n",
       "      <th>hasStorageRoom</th>\n",
       "      <th>hasGuestRoom</th>\n",
       "      <th>price</th>\n",
       "      <th>category</th>\n",
       "    </tr>\n",
       "  </thead>\n",
       "  <tbody>\n",
       "    <tr>\n",
       "      <th>0</th>\n",
       "      <td>75523</td>\n",
       "      <td>3</td>\n",
       "      <td>0</td>\n",
       "      <td>1</td>\n",
       "      <td>63</td>\n",
       "      <td>9373</td>\n",
       "      <td>3</td>\n",
       "      <td>8</td>\n",
       "      <td>2005</td>\n",
       "      <td>0</td>\n",
       "      <td>1</td>\n",
       "      <td>4313</td>\n",
       "      <td>9005</td>\n",
       "      <td>956</td>\n",
       "      <td>0</td>\n",
       "      <td>7</td>\n",
       "      <td>7559081.5</td>\n",
       "      <td>Basic</td>\n",
       "    </tr>\n",
       "    <tr>\n",
       "      <th>1</th>\n",
       "      <td>80771</td>\n",
       "      <td>39</td>\n",
       "      <td>1</td>\n",
       "      <td>1</td>\n",
       "      <td>98</td>\n",
       "      <td>39381</td>\n",
       "      <td>8</td>\n",
       "      <td>6</td>\n",
       "      <td>2015</td>\n",
       "      <td>1</td>\n",
       "      <td>0</td>\n",
       "      <td>3653</td>\n",
       "      <td>2436</td>\n",
       "      <td>128</td>\n",
       "      <td>1</td>\n",
       "      <td>2</td>\n",
       "      <td>8085989.5</td>\n",
       "      <td>Luxury</td>\n",
       "    </tr>\n",
       "    <tr>\n",
       "      <th>2</th>\n",
       "      <td>55712</td>\n",
       "      <td>58</td>\n",
       "      <td>0</td>\n",
       "      <td>1</td>\n",
       "      <td>19</td>\n",
       "      <td>34457</td>\n",
       "      <td>6</td>\n",
       "      <td>8</td>\n",
       "      <td>2021</td>\n",
       "      <td>0</td>\n",
       "      <td>0</td>\n",
       "      <td>2937</td>\n",
       "      <td>8852</td>\n",
       "      <td>135</td>\n",
       "      <td>1</td>\n",
       "      <td>9</td>\n",
       "      <td>5574642.1</td>\n",
       "      <td>Basic</td>\n",
       "    </tr>\n",
       "    <tr>\n",
       "      <th>3</th>\n",
       "      <td>32316</td>\n",
       "      <td>47</td>\n",
       "      <td>0</td>\n",
       "      <td>0</td>\n",
       "      <td>6</td>\n",
       "      <td>27939</td>\n",
       "      <td>10</td>\n",
       "      <td>4</td>\n",
       "      <td>2012</td>\n",
       "      <td>0</td>\n",
       "      <td>1</td>\n",
       "      <td>659</td>\n",
       "      <td>7141</td>\n",
       "      <td>359</td>\n",
       "      <td>0</td>\n",
       "      <td>3</td>\n",
       "      <td>3232561.2</td>\n",
       "      <td>Basic</td>\n",
       "    </tr>\n",
       "    <tr>\n",
       "      <th>4</th>\n",
       "      <td>70429</td>\n",
       "      <td>19</td>\n",
       "      <td>1</td>\n",
       "      <td>1</td>\n",
       "      <td>90</td>\n",
       "      <td>38045</td>\n",
       "      <td>3</td>\n",
       "      <td>7</td>\n",
       "      <td>1990</td>\n",
       "      <td>1</td>\n",
       "      <td>0</td>\n",
       "      <td>8435</td>\n",
       "      <td>2429</td>\n",
       "      <td>292</td>\n",
       "      <td>1</td>\n",
       "      <td>4</td>\n",
       "      <td>7055052.0</td>\n",
       "      <td>Luxury</td>\n",
       "    </tr>\n",
       "  </tbody>\n",
       "</table>\n",
       "</div>"
      ],
      "text/plain": [
       "   squareMeters  numberOfRooms  hasYard  hasPool  floors  cityCode  \\\n",
       "0         75523              3        0        1      63      9373   \n",
       "1         80771             39        1        1      98     39381   \n",
       "2         55712             58        0        1      19     34457   \n",
       "3         32316             47        0        0       6     27939   \n",
       "4         70429             19        1        1      90     38045   \n",
       "\n",
       "   cityPartRange  numPrevOwners  made  isNewBuilt  hasStormProtector  \\\n",
       "0              3              8  2005           0                  1   \n",
       "1              8              6  2015           1                  0   \n",
       "2              6              8  2021           0                  0   \n",
       "3             10              4  2012           0                  1   \n",
       "4              3              7  1990           1                  0   \n",
       "\n",
       "   basement  attic  garage  hasStorageRoom  hasGuestRoom      price category  \n",
       "0      4313   9005     956               0             7  7559081.5    Basic  \n",
       "1      3653   2436     128               1             2  8085989.5   Luxury  \n",
       "2      2937   8852     135               1             9  5574642.1    Basic  \n",
       "3       659   7141     359               0             3  3232561.2    Basic  \n",
       "4      8435   2429     292               1             4  7055052.0   Luxury  "
      ]
     },
     "execution_count": 2,
     "metadata": {},
     "output_type": "execute_result"
    }
   ],
   "source": [
    "dfhouse = pd.read_csv(\"D:\\Универ\\ParisHousingClass.csv\",sep=\",\")\n",
    "dfhouse.head()"
   ]
  },
  {
   "cell_type": "code",
   "execution_count": 3,
   "id": "c4e25d97",
   "metadata": {},
   "outputs": [
    {
     "data": {
      "text/plain": [
       "array(['Basic', 'Luxury'], dtype=object)"
      ]
     },
     "execution_count": 3,
     "metadata": {},
     "output_type": "execute_result"
    }
   ],
   "source": [
    "dfhouse.category.unique()"
   ]
  },
  {
   "cell_type": "code",
   "execution_count": 4,
   "id": "9c2cbc77",
   "metadata": {},
   "outputs": [
    {
     "data": {
      "text/plain": [
       "Index(['squareMeters', 'numberOfRooms', 'hasYard', 'hasPool', 'floors',\n",
       "       'cityPartRange', 'numPrevOwners', 'made', 'isNewBuilt',\n",
       "       'hasStormProtector', 'basement', 'attic', 'garage', 'hasStorageRoom',\n",
       "       'hasGuestRoom', 'price', 'category'],\n",
       "      dtype='object')"
      ]
     },
     "execution_count": 4,
     "metadata": {},
     "output_type": "execute_result"
    }
   ],
   "source": [
    "dfhouse.columns.drop('cityCode')"
   ]
  },
  {
   "cell_type": "code",
   "execution_count": 5,
   "id": "53171c7e",
   "metadata": {},
   "outputs": [
    {
     "data": {
      "text/html": [
       "<div>\n",
       "<style scoped>\n",
       "    .dataframe tbody tr th:only-of-type {\n",
       "        vertical-align: middle;\n",
       "    }\n",
       "\n",
       "    .dataframe tbody tr th {\n",
       "        vertical-align: top;\n",
       "    }\n",
       "\n",
       "    .dataframe thead th {\n",
       "        text-align: right;\n",
       "    }\n",
       "</style>\n",
       "<table border=\"1\" class=\"dataframe\">\n",
       "  <thead>\n",
       "    <tr style=\"text-align: right;\">\n",
       "      <th></th>\n",
       "      <th>squareMeters</th>\n",
       "      <th>numberOfRooms</th>\n",
       "      <th>hasYard</th>\n",
       "      <th>hasPool</th>\n",
       "      <th>floors</th>\n",
       "      <th>cityCode</th>\n",
       "      <th>cityPartRange</th>\n",
       "      <th>numPrevOwners</th>\n",
       "      <th>made</th>\n",
       "      <th>isNewBuilt</th>\n",
       "      <th>hasStormProtector</th>\n",
       "      <th>basement</th>\n",
       "      <th>attic</th>\n",
       "      <th>garage</th>\n",
       "      <th>hasStorageRoom</th>\n",
       "      <th>hasGuestRoom</th>\n",
       "      <th>price</th>\n",
       "    </tr>\n",
       "  </thead>\n",
       "  <tbody>\n",
       "    <tr>\n",
       "      <th>squareMeters</th>\n",
       "      <td>1.000000</td>\n",
       "      <td>0.009573</td>\n",
       "      <td>-0.006650</td>\n",
       "      <td>-0.005594</td>\n",
       "      <td>0.001109</td>\n",
       "      <td>-0.001541</td>\n",
       "      <td>0.008758</td>\n",
       "      <td>0.016619</td>\n",
       "      <td>-0.007207</td>\n",
       "      <td>-0.010667</td>\n",
       "      <td>0.007480</td>\n",
       "      <td>-0.003960</td>\n",
       "      <td>-0.000588</td>\n",
       "      <td>-0.017246</td>\n",
       "      <td>-0.003486</td>\n",
       "      <td>-0.000623</td>\n",
       "      <td>0.999999</td>\n",
       "    </tr>\n",
       "    <tr>\n",
       "      <th>numberOfRooms</th>\n",
       "      <td>0.009573</td>\n",
       "      <td>1.000000</td>\n",
       "      <td>-0.011240</td>\n",
       "      <td>0.017015</td>\n",
       "      <td>0.022244</td>\n",
       "      <td>0.009040</td>\n",
       "      <td>0.008340</td>\n",
       "      <td>0.016766</td>\n",
       "      <td>0.003978</td>\n",
       "      <td>-0.002865</td>\n",
       "      <td>-0.001656</td>\n",
       "      <td>-0.013990</td>\n",
       "      <td>0.012061</td>\n",
       "      <td>0.023188</td>\n",
       "      <td>-0.004760</td>\n",
       "      <td>-0.015529</td>\n",
       "      <td>0.009591</td>\n",
       "    </tr>\n",
       "    <tr>\n",
       "      <th>hasYard</th>\n",
       "      <td>-0.006650</td>\n",
       "      <td>-0.011240</td>\n",
       "      <td>1.000000</td>\n",
       "      <td>0.015514</td>\n",
       "      <td>-0.000883</td>\n",
       "      <td>0.006760</td>\n",
       "      <td>0.005023</td>\n",
       "      <td>0.004279</td>\n",
       "      <td>0.002214</td>\n",
       "      <td>-0.008370</td>\n",
       "      <td>-0.007598</td>\n",
       "      <td>-0.008558</td>\n",
       "      <td>-0.003085</td>\n",
       "      <td>-0.004626</td>\n",
       "      <td>-0.009506</td>\n",
       "      <td>-0.007276</td>\n",
       "      <td>-0.006119</td>\n",
       "    </tr>\n",
       "    <tr>\n",
       "      <th>hasPool</th>\n",
       "      <td>-0.005594</td>\n",
       "      <td>0.017015</td>\n",
       "      <td>0.015514</td>\n",
       "      <td>1.000000</td>\n",
       "      <td>-0.004006</td>\n",
       "      <td>0.008072</td>\n",
       "      <td>0.014613</td>\n",
       "      <td>-0.006848</td>\n",
       "      <td>0.001894</td>\n",
       "      <td>0.000188</td>\n",
       "      <td>-0.001001</td>\n",
       "      <td>-0.007268</td>\n",
       "      <td>-0.011901</td>\n",
       "      <td>0.004832</td>\n",
       "      <td>0.001238</td>\n",
       "      <td>0.001123</td>\n",
       "      <td>-0.005070</td>\n",
       "    </tr>\n",
       "    <tr>\n",
       "      <th>floors</th>\n",
       "      <td>0.001109</td>\n",
       "      <td>0.022244</td>\n",
       "      <td>-0.000883</td>\n",
       "      <td>-0.004006</td>\n",
       "      <td>1.000000</td>\n",
       "      <td>0.002207</td>\n",
       "      <td>-0.004921</td>\n",
       "      <td>0.002463</td>\n",
       "      <td>0.005022</td>\n",
       "      <td>0.002458</td>\n",
       "      <td>-0.008566</td>\n",
       "      <td>0.006228</td>\n",
       "      <td>-0.000270</td>\n",
       "      <td>0.011303</td>\n",
       "      <td>0.003616</td>\n",
       "      <td>-0.021155</td>\n",
       "      <td>0.001654</td>\n",
       "    </tr>\n",
       "    <tr>\n",
       "      <th>cityCode</th>\n",
       "      <td>-0.001541</td>\n",
       "      <td>0.009040</td>\n",
       "      <td>0.006760</td>\n",
       "      <td>0.008072</td>\n",
       "      <td>0.002207</td>\n",
       "      <td>1.000000</td>\n",
       "      <td>0.011334</td>\n",
       "      <td>-0.007549</td>\n",
       "      <td>0.009266</td>\n",
       "      <td>-0.000224</td>\n",
       "      <td>-0.004941</td>\n",
       "      <td>0.002652</td>\n",
       "      <td>-0.002019</td>\n",
       "      <td>-0.002208</td>\n",
       "      <td>0.002554</td>\n",
       "      <td>-0.003338</td>\n",
       "      <td>-0.001539</td>\n",
       "    </tr>\n",
       "    <tr>\n",
       "      <th>cityPartRange</th>\n",
       "      <td>0.008758</td>\n",
       "      <td>0.008340</td>\n",
       "      <td>0.005023</td>\n",
       "      <td>0.014613</td>\n",
       "      <td>-0.004921</td>\n",
       "      <td>0.011334</td>\n",
       "      <td>1.000000</td>\n",
       "      <td>0.009238</td>\n",
       "      <td>0.007748</td>\n",
       "      <td>-0.001874</td>\n",
       "      <td>0.005224</td>\n",
       "      <td>0.004743</td>\n",
       "      <td>0.010696</td>\n",
       "      <td>-0.001648</td>\n",
       "      <td>-0.011338</td>\n",
       "      <td>-0.007153</td>\n",
       "      <td>0.008813</td>\n",
       "    </tr>\n",
       "    <tr>\n",
       "      <th>numPrevOwners</th>\n",
       "      <td>0.016619</td>\n",
       "      <td>0.016766</td>\n",
       "      <td>0.004279</td>\n",
       "      <td>-0.006848</td>\n",
       "      <td>0.002463</td>\n",
       "      <td>-0.007549</td>\n",
       "      <td>0.009238</td>\n",
       "      <td>1.000000</td>\n",
       "      <td>0.006858</td>\n",
       "      <td>-0.017420</td>\n",
       "      <td>0.002522</td>\n",
       "      <td>-0.000862</td>\n",
       "      <td>0.000719</td>\n",
       "      <td>0.020268</td>\n",
       "      <td>0.031707</td>\n",
       "      <td>-0.006082</td>\n",
       "      <td>0.016619</td>\n",
       "    </tr>\n",
       "    <tr>\n",
       "      <th>made</th>\n",
       "      <td>-0.007207</td>\n",
       "      <td>0.003978</td>\n",
       "      <td>0.002214</td>\n",
       "      <td>0.001894</td>\n",
       "      <td>0.005022</td>\n",
       "      <td>0.009266</td>\n",
       "      <td>0.007748</td>\n",
       "      <td>0.006858</td>\n",
       "      <td>1.000000</td>\n",
       "      <td>-0.001678</td>\n",
       "      <td>-0.000645</td>\n",
       "      <td>-0.005506</td>\n",
       "      <td>0.013773</td>\n",
       "      <td>0.005687</td>\n",
       "      <td>-0.007868</td>\n",
       "      <td>-0.005431</td>\n",
       "      <td>-0.007210</td>\n",
       "    </tr>\n",
       "    <tr>\n",
       "      <th>isNewBuilt</th>\n",
       "      <td>-0.010667</td>\n",
       "      <td>-0.002865</td>\n",
       "      <td>-0.008370</td>\n",
       "      <td>0.000188</td>\n",
       "      <td>0.002458</td>\n",
       "      <td>-0.000224</td>\n",
       "      <td>-0.001874</td>\n",
       "      <td>-0.017420</td>\n",
       "      <td>-0.001678</td>\n",
       "      <td>1.000000</td>\n",
       "      <td>0.003200</td>\n",
       "      <td>-0.015986</td>\n",
       "      <td>0.020127</td>\n",
       "      <td>0.002749</td>\n",
       "      <td>0.007011</td>\n",
       "      <td>0.019895</td>\n",
       "      <td>-0.010643</td>\n",
       "    </tr>\n",
       "    <tr>\n",
       "      <th>hasStormProtector</th>\n",
       "      <td>0.007480</td>\n",
       "      <td>-0.001656</td>\n",
       "      <td>-0.007598</td>\n",
       "      <td>-0.001001</td>\n",
       "      <td>-0.008566</td>\n",
       "      <td>-0.004941</td>\n",
       "      <td>0.005224</td>\n",
       "      <td>0.002522</td>\n",
       "      <td>-0.000645</td>\n",
       "      <td>0.003200</td>\n",
       "      <td>1.000000</td>\n",
       "      <td>-0.005001</td>\n",
       "      <td>-0.003753</td>\n",
       "      <td>0.003758</td>\n",
       "      <td>0.001401</td>\n",
       "      <td>-0.006549</td>\n",
       "      <td>0.007496</td>\n",
       "    </tr>\n",
       "    <tr>\n",
       "      <th>basement</th>\n",
       "      <td>-0.003960</td>\n",
       "      <td>-0.013990</td>\n",
       "      <td>-0.008558</td>\n",
       "      <td>-0.007268</td>\n",
       "      <td>0.006228</td>\n",
       "      <td>0.002652</td>\n",
       "      <td>0.004743</td>\n",
       "      <td>-0.000862</td>\n",
       "      <td>-0.005506</td>\n",
       "      <td>-0.015986</td>\n",
       "      <td>-0.005001</td>\n",
       "      <td>1.000000</td>\n",
       "      <td>-0.003180</td>\n",
       "      <td>0.000117</td>\n",
       "      <td>-0.010815</td>\n",
       "      <td>-0.020732</td>\n",
       "      <td>-0.003967</td>\n",
       "    </tr>\n",
       "    <tr>\n",
       "      <th>attic</th>\n",
       "      <td>-0.000588</td>\n",
       "      <td>0.012061</td>\n",
       "      <td>-0.003085</td>\n",
       "      <td>-0.011901</td>\n",
       "      <td>-0.000270</td>\n",
       "      <td>-0.002019</td>\n",
       "      <td>0.010696</td>\n",
       "      <td>0.000719</td>\n",
       "      <td>0.013773</td>\n",
       "      <td>0.020127</td>\n",
       "      <td>-0.003753</td>\n",
       "      <td>-0.003180</td>\n",
       "      <td>1.000000</td>\n",
       "      <td>-0.000611</td>\n",
       "      <td>-0.000789</td>\n",
       "      <td>-0.011995</td>\n",
       "      <td>-0.000600</td>\n",
       "    </tr>\n",
       "    <tr>\n",
       "      <th>garage</th>\n",
       "      <td>-0.017246</td>\n",
       "      <td>0.023188</td>\n",
       "      <td>-0.004626</td>\n",
       "      <td>0.004832</td>\n",
       "      <td>0.011303</td>\n",
       "      <td>-0.002208</td>\n",
       "      <td>-0.001648</td>\n",
       "      <td>0.020268</td>\n",
       "      <td>0.005687</td>\n",
       "      <td>0.002749</td>\n",
       "      <td>0.003758</td>\n",
       "      <td>0.000117</td>\n",
       "      <td>-0.000611</td>\n",
       "      <td>1.000000</td>\n",
       "      <td>0.032863</td>\n",
       "      <td>-0.017316</td>\n",
       "      <td>-0.017229</td>\n",
       "    </tr>\n",
       "    <tr>\n",
       "      <th>hasStorageRoom</th>\n",
       "      <td>-0.003486</td>\n",
       "      <td>-0.004760</td>\n",
       "      <td>-0.009506</td>\n",
       "      <td>0.001238</td>\n",
       "      <td>0.003616</td>\n",
       "      <td>0.002554</td>\n",
       "      <td>-0.011338</td>\n",
       "      <td>0.031707</td>\n",
       "      <td>-0.007868</td>\n",
       "      <td>0.007011</td>\n",
       "      <td>0.001401</td>\n",
       "      <td>-0.010815</td>\n",
       "      <td>-0.000789</td>\n",
       "      <td>0.032863</td>\n",
       "      <td>1.000000</td>\n",
       "      <td>0.015186</td>\n",
       "      <td>-0.003485</td>\n",
       "    </tr>\n",
       "    <tr>\n",
       "      <th>hasGuestRoom</th>\n",
       "      <td>-0.000623</td>\n",
       "      <td>-0.015529</td>\n",
       "      <td>-0.007276</td>\n",
       "      <td>0.001123</td>\n",
       "      <td>-0.021155</td>\n",
       "      <td>-0.003338</td>\n",
       "      <td>-0.007153</td>\n",
       "      <td>-0.006082</td>\n",
       "      <td>-0.005431</td>\n",
       "      <td>0.019895</td>\n",
       "      <td>-0.006549</td>\n",
       "      <td>-0.020732</td>\n",
       "      <td>-0.011995</td>\n",
       "      <td>-0.017316</td>\n",
       "      <td>0.015186</td>\n",
       "      <td>1.000000</td>\n",
       "      <td>-0.000644</td>\n",
       "    </tr>\n",
       "    <tr>\n",
       "      <th>price</th>\n",
       "      <td>0.999999</td>\n",
       "      <td>0.009591</td>\n",
       "      <td>-0.006119</td>\n",
       "      <td>-0.005070</td>\n",
       "      <td>0.001654</td>\n",
       "      <td>-0.001539</td>\n",
       "      <td>0.008813</td>\n",
       "      <td>0.016619</td>\n",
       "      <td>-0.007210</td>\n",
       "      <td>-0.010643</td>\n",
       "      <td>0.007496</td>\n",
       "      <td>-0.003967</td>\n",
       "      <td>-0.000600</td>\n",
       "      <td>-0.017229</td>\n",
       "      <td>-0.003485</td>\n",
       "      <td>-0.000644</td>\n",
       "      <td>1.000000</td>\n",
       "    </tr>\n",
       "  </tbody>\n",
       "</table>\n",
       "</div>"
      ],
      "text/plain": [
       "                   squareMeters  numberOfRooms   hasYard   hasPool    floors  \\\n",
       "squareMeters           1.000000       0.009573 -0.006650 -0.005594  0.001109   \n",
       "numberOfRooms          0.009573       1.000000 -0.011240  0.017015  0.022244   \n",
       "hasYard               -0.006650      -0.011240  1.000000  0.015514 -0.000883   \n",
       "hasPool               -0.005594       0.017015  0.015514  1.000000 -0.004006   \n",
       "floors                 0.001109       0.022244 -0.000883 -0.004006  1.000000   \n",
       "cityCode              -0.001541       0.009040  0.006760  0.008072  0.002207   \n",
       "cityPartRange          0.008758       0.008340  0.005023  0.014613 -0.004921   \n",
       "numPrevOwners          0.016619       0.016766  0.004279 -0.006848  0.002463   \n",
       "made                  -0.007207       0.003978  0.002214  0.001894  0.005022   \n",
       "isNewBuilt            -0.010667      -0.002865 -0.008370  0.000188  0.002458   \n",
       "hasStormProtector      0.007480      -0.001656 -0.007598 -0.001001 -0.008566   \n",
       "basement              -0.003960      -0.013990 -0.008558 -0.007268  0.006228   \n",
       "attic                 -0.000588       0.012061 -0.003085 -0.011901 -0.000270   \n",
       "garage                -0.017246       0.023188 -0.004626  0.004832  0.011303   \n",
       "hasStorageRoom        -0.003486      -0.004760 -0.009506  0.001238  0.003616   \n",
       "hasGuestRoom          -0.000623      -0.015529 -0.007276  0.001123 -0.021155   \n",
       "price                  0.999999       0.009591 -0.006119 -0.005070  0.001654   \n",
       "\n",
       "                   cityCode  cityPartRange  numPrevOwners      made  \\\n",
       "squareMeters      -0.001541       0.008758       0.016619 -0.007207   \n",
       "numberOfRooms      0.009040       0.008340       0.016766  0.003978   \n",
       "hasYard            0.006760       0.005023       0.004279  0.002214   \n",
       "hasPool            0.008072       0.014613      -0.006848  0.001894   \n",
       "floors             0.002207      -0.004921       0.002463  0.005022   \n",
       "cityCode           1.000000       0.011334      -0.007549  0.009266   \n",
       "cityPartRange      0.011334       1.000000       0.009238  0.007748   \n",
       "numPrevOwners     -0.007549       0.009238       1.000000  0.006858   \n",
       "made               0.009266       0.007748       0.006858  1.000000   \n",
       "isNewBuilt        -0.000224      -0.001874      -0.017420 -0.001678   \n",
       "hasStormProtector -0.004941       0.005224       0.002522 -0.000645   \n",
       "basement           0.002652       0.004743      -0.000862 -0.005506   \n",
       "attic             -0.002019       0.010696       0.000719  0.013773   \n",
       "garage            -0.002208      -0.001648       0.020268  0.005687   \n",
       "hasStorageRoom     0.002554      -0.011338       0.031707 -0.007868   \n",
       "hasGuestRoom      -0.003338      -0.007153      -0.006082 -0.005431   \n",
       "price             -0.001539       0.008813       0.016619 -0.007210   \n",
       "\n",
       "                   isNewBuilt  hasStormProtector  basement     attic  \\\n",
       "squareMeters        -0.010667           0.007480 -0.003960 -0.000588   \n",
       "numberOfRooms       -0.002865          -0.001656 -0.013990  0.012061   \n",
       "hasYard             -0.008370          -0.007598 -0.008558 -0.003085   \n",
       "hasPool              0.000188          -0.001001 -0.007268 -0.011901   \n",
       "floors               0.002458          -0.008566  0.006228 -0.000270   \n",
       "cityCode            -0.000224          -0.004941  0.002652 -0.002019   \n",
       "cityPartRange       -0.001874           0.005224  0.004743  0.010696   \n",
       "numPrevOwners       -0.017420           0.002522 -0.000862  0.000719   \n",
       "made                -0.001678          -0.000645 -0.005506  0.013773   \n",
       "isNewBuilt           1.000000           0.003200 -0.015986  0.020127   \n",
       "hasStormProtector    0.003200           1.000000 -0.005001 -0.003753   \n",
       "basement            -0.015986          -0.005001  1.000000 -0.003180   \n",
       "attic                0.020127          -0.003753 -0.003180  1.000000   \n",
       "garage               0.002749           0.003758  0.000117 -0.000611   \n",
       "hasStorageRoom       0.007011           0.001401 -0.010815 -0.000789   \n",
       "hasGuestRoom         0.019895          -0.006549 -0.020732 -0.011995   \n",
       "price               -0.010643           0.007496 -0.003967 -0.000600   \n",
       "\n",
       "                     garage  hasStorageRoom  hasGuestRoom     price  \n",
       "squareMeters      -0.017246       -0.003486     -0.000623  0.999999  \n",
       "numberOfRooms      0.023188       -0.004760     -0.015529  0.009591  \n",
       "hasYard           -0.004626       -0.009506     -0.007276 -0.006119  \n",
       "hasPool            0.004832        0.001238      0.001123 -0.005070  \n",
       "floors             0.011303        0.003616     -0.021155  0.001654  \n",
       "cityCode          -0.002208        0.002554     -0.003338 -0.001539  \n",
       "cityPartRange     -0.001648       -0.011338     -0.007153  0.008813  \n",
       "numPrevOwners      0.020268        0.031707     -0.006082  0.016619  \n",
       "made               0.005687       -0.007868     -0.005431 -0.007210  \n",
       "isNewBuilt         0.002749        0.007011      0.019895 -0.010643  \n",
       "hasStormProtector  0.003758        0.001401     -0.006549  0.007496  \n",
       "basement           0.000117       -0.010815     -0.020732 -0.003967  \n",
       "attic             -0.000611       -0.000789     -0.011995 -0.000600  \n",
       "garage             1.000000        0.032863     -0.017316 -0.017229  \n",
       "hasStorageRoom     0.032863        1.000000      0.015186 -0.003485  \n",
       "hasGuestRoom      -0.017316        0.015186      1.000000 -0.000644  \n",
       "price             -0.017229       -0.003485     -0.000644  1.000000  "
      ]
     },
     "execution_count": 5,
     "metadata": {},
     "output_type": "execute_result"
    }
   ],
   "source": [
    "correlation = dfhouse.corr()\n",
    "correlation"
   ]
  },
  {
   "cell_type": "code",
   "execution_count": 6,
   "id": "1e7a7238",
   "metadata": {},
   "outputs": [
    {
     "data": {
      "text/plain": [
       "<AxesSubplot:>"
      ]
     },
     "execution_count": 6,
     "metadata": {},
     "output_type": "execute_result"
    },
    {
     "data": {
      "image/png": "[encoded data removed]",
      "text/plain": [
       "<Figure size 1008x1008 with 2 Axes>"
      ]
     },
     "metadata": {
      "needs_background": "light"
     },
     "output_type": "display_data"
    }
   ],
   "source": [
    "fig, ax = plt.subplots(figsize=(14,14))\n",
    "sns.heatmap(correlation,annot=True)"
   ]
  },
  {
   "cell_type": "code",
   "execution_count": 7,
   "id": "63bf6d27",
   "metadata": {},
   "outputs": [
    {
     "data": {
      "image/png": "[encoded data removed]",
      "text/plain": [
       "<Figure size 432x288 with 1 Axes>"
      ]
     },
     "metadata": {
      "needs_background": "light"
     },
     "output_type": "display_data"
    },
    {
     "data": {
      "image/png": "[encoded data removed]",
      "text/plain": [
       "<Figure size 432x288 with 1 Axes>"
      ]
     },
     "metadata": {
      "needs_background": "light"
     },
     "output_type": "display_data"
    },
    {
     "data": {
      "image/png": "[encoded data removed]",
      "text/plain": [
       "<Figure size 432x288 with 1 Axes>"
      ]
     },
     "metadata": {
      "needs_background": "light"
     },
     "output_type": "display_data"
    }
   ],
   "source": [
    "Columns = [\"squareMeters\",\"cityPartRange\",\"price\"]\n",
    "for item in Columns:\n",
    "    sns.boxplot(x=\"category\", y=item, data=dfhouse)\n",
    "    plt.show()"
   ]
  },
  {
   "cell_type": "code",
   "execution_count": 8,
   "id": "1b9859e2",
   "metadata": {},
   "outputs": [
    {
     "data": {
      "text/plain": [
       "<AxesSubplot:title={'center':'made'}, xlabel='made', ylabel='Count'>"
      ]
     },
     "execution_count": 8,
     "metadata": {},
     "output_type": "execute_result"
    },
    {
     "data": {
      "image/png": "[encoded data removed]",
      "text/plain": [
       "<Figure size 720x288 with 1 Axes>"
      ]
     },
     "metadata": {
      "needs_background": "light"
     },
     "output_type": "display_data"
    },
    {
     "data": {
      "image/png": "[encoded data removed]",
      "text/plain": [
       "<Figure size 720x288 with 1 Axes>"
      ]
     },
     "metadata": {
      "needs_background": "light"
     },
     "output_type": "display_data"
    }
   ],
   "source": [
    "plt.figure(3, figsize=(10,4)) \n",
    "plt.title(\"numberOfRooms\")\n",
    "sns.histplot(dfhouse['numberOfRooms'])\n",
    "\n",
    "plt.figure(2, figsize=(10,4))\n",
    "plt.title(\"made\")\n",
    "sns.histplot(dfhouse['made'])"
   ]
  },
  {
   "cell_type": "code",
   "execution_count": 54,
   "id": "abe2fcd8",
   "metadata": {},
   "outputs": [],
   "source": [
    "continiousColumns = [\"squareMeters\", \"numberOfRooms\", \"hasYard\", \"hasPool\", \"floors\", \"cityPartRange\", \"numPrevOwners\", \"made\", \"isNewBuilt\", \"hasStormProtector\", \"basement\", \"attic\", \"garage\", \"hasStorageRoom\", \"hasGuestRoom\", \"price\"]\n",
    "willScale  = continiousColumns"
   ]
  },
  {
   "cell_type": "code",
   "execution_count": 55,
   "id": "a419e6c2",
   "metadata": {},
   "outputs": [
    {
     "data": {
      "text/html": [
       "<div>\n",
       "<style scoped>\n",
       "    .dataframe tbody tr th:only-of-type {\n",
       "        vertical-align: middle;\n",
       "    }\n",
       "\n",
       "    .dataframe tbody tr th {\n",
       "        vertical-align: top;\n",
       "    }\n",
       "\n",
       "    .dataframe thead th {\n",
       "        text-align: right;\n",
       "    }\n",
       "</style>\n",
       "<table border=\"1\" class=\"dataframe\">\n",
       "  <thead>\n",
       "    <tr style=\"text-align: right;\">\n",
       "      <th></th>\n",
       "      <th>squareMeters</th>\n",
       "      <th>numberOfRooms</th>\n",
       "      <th>hasYard</th>\n",
       "      <th>hasPool</th>\n",
       "      <th>floors</th>\n",
       "      <th>cityPartRange</th>\n",
       "      <th>numPrevOwners</th>\n",
       "      <th>made</th>\n",
       "      <th>isNewBuilt</th>\n",
       "      <th>hasStormProtector</th>\n",
       "      <th>basement</th>\n",
       "      <th>attic</th>\n",
       "      <th>garage</th>\n",
       "      <th>hasStorageRoom</th>\n",
       "      <th>hasGuestRoom</th>\n",
       "      <th>price</th>\n",
       "    </tr>\n",
       "  </thead>\n",
       "  <tbody>\n",
       "    <tr>\n",
       "      <th>count</th>\n",
       "      <td>10000.000000</td>\n",
       "      <td>10000.000000</td>\n",
       "      <td>10000.000000</td>\n",
       "      <td>10000.000000</td>\n",
       "      <td>10000.000000</td>\n",
       "      <td>10000.000000</td>\n",
       "      <td>10000.000000</td>\n",
       "      <td>10000.000000</td>\n",
       "      <td>10000.000000</td>\n",
       "      <td>10000.000000</td>\n",
       "      <td>10000.000000</td>\n",
       "      <td>10000.000000</td>\n",
       "      <td>10000.000000</td>\n",
       "      <td>10000.000000</td>\n",
       "      <td>10000.000000</td>\n",
       "      <td>10000.000000</td>\n",
       "    </tr>\n",
       "    <tr>\n",
       "      <th>mean</th>\n",
       "      <td>0.498260</td>\n",
       "      <td>0.498570</td>\n",
       "      <td>0.508700</td>\n",
       "      <td>0.496800</td>\n",
       "      <td>0.497740</td>\n",
       "      <td>0.501122</td>\n",
       "      <td>0.502411</td>\n",
       "      <td>0.499629</td>\n",
       "      <td>0.499100</td>\n",
       "      <td>0.499900</td>\n",
       "      <td>0.503310</td>\n",
       "      <td>0.502751</td>\n",
       "      <td>0.503468</td>\n",
       "      <td>0.503000</td>\n",
       "      <td>0.499460</td>\n",
       "      <td>0.498490</td>\n",
       "    </tr>\n",
       "    <tr>\n",
       "      <th>std</th>\n",
       "      <td>0.288003</td>\n",
       "      <td>0.291078</td>\n",
       "      <td>0.499949</td>\n",
       "      <td>0.500015</td>\n",
       "      <td>0.291810</td>\n",
       "      <td>0.319114</td>\n",
       "      <td>0.317407</td>\n",
       "      <td>0.300261</td>\n",
       "      <td>0.500024</td>\n",
       "      <td>0.500025</td>\n",
       "      <td>0.287673</td>\n",
       "      <td>0.289462</td>\n",
       "      <td>0.291167</td>\n",
       "      <td>0.500016</td>\n",
       "      <td>0.317641</td>\n",
       "      <td>0.287844</td>\n",
       "    </tr>\n",
       "    <tr>\n",
       "      <th>min</th>\n",
       "      <td>0.000000</td>\n",
       "      <td>0.000000</td>\n",
       "      <td>0.000000</td>\n",
       "      <td>0.000000</td>\n",
       "      <td>0.000000</td>\n",
       "      <td>0.000000</td>\n",
       "      <td>0.000000</td>\n",
       "      <td>0.000000</td>\n",
       "      <td>0.000000</td>\n",
       "      <td>0.000000</td>\n",
       "      <td>0.000000</td>\n",
       "      <td>0.000000</td>\n",
       "      <td>0.000000</td>\n",
       "      <td>0.000000</td>\n",
       "      <td>0.000000</td>\n",
       "      <td>0.000000</td>\n",
       "    </tr>\n",
       "    <tr>\n",
       "      <th>25%</th>\n",
       "      <td>0.250320</td>\n",
       "      <td>0.242424</td>\n",
       "      <td>0.000000</td>\n",
       "      <td>0.000000</td>\n",
       "      <td>0.242424</td>\n",
       "      <td>0.222222</td>\n",
       "      <td>0.222222</td>\n",
       "      <td>0.225806</td>\n",
       "      <td>0.000000</td>\n",
       "      <td>0.000000</td>\n",
       "      <td>0.255975</td>\n",
       "      <td>0.251125</td>\n",
       "      <td>0.253056</td>\n",
       "      <td>0.000000</td>\n",
       "      <td>0.200000</td>\n",
       "      <td>0.250698</td>\n",
       "    </tr>\n",
       "    <tr>\n",
       "      <th>50%</th>\n",
       "      <td>0.500616</td>\n",
       "      <td>0.494949</td>\n",
       "      <td>1.000000</td>\n",
       "      <td>0.000000</td>\n",
       "      <td>0.494949</td>\n",
       "      <td>0.444444</td>\n",
       "      <td>0.444444</td>\n",
       "      <td>0.500000</td>\n",
       "      <td>0.000000</td>\n",
       "      <td>0.000000</td>\n",
       "      <td>0.509250</td>\n",
       "      <td>0.504450</td>\n",
       "      <td>0.504444</td>\n",
       "      <td>1.000000</td>\n",
       "      <td>0.500000</td>\n",
       "      <td>0.500764</td>\n",
       "    </tr>\n",
       "    <tr>\n",
       "      <th>75%</th>\n",
       "      <td>0.745879</td>\n",
       "      <td>0.747475</td>\n",
       "      <td>1.000000</td>\n",
       "      <td>1.000000</td>\n",
       "      <td>0.757576</td>\n",
       "      <td>0.777778</td>\n",
       "      <td>0.777778</td>\n",
       "      <td>0.774194</td>\n",
       "      <td>1.000000</td>\n",
       "      <td>1.000000</td>\n",
       "      <td>0.751125</td>\n",
       "      <td>0.754025</td>\n",
       "      <td>0.752500</td>\n",
       "      <td>1.000000</td>\n",
       "      <td>0.800000</td>\n",
       "      <td>0.746142</td>\n",
       "    </tr>\n",
       "    <tr>\n",
       "      <th>max</th>\n",
       "      <td>1.000000</td>\n",
       "      <td>1.000000</td>\n",
       "      <td>1.000000</td>\n",
       "      <td>1.000000</td>\n",
       "      <td>1.000000</td>\n",
       "      <td>1.000000</td>\n",
       "      <td>1.000000</td>\n",
       "      <td>1.000000</td>\n",
       "      <td>1.000000</td>\n",
       "      <td>1.000000</td>\n",
       "      <td>1.000000</td>\n",
       "      <td>1.000000</td>\n",
       "      <td>1.000000</td>\n",
       "      <td>1.000000</td>\n",
       "      <td>1.000000</td>\n",
       "      <td>1.000000</td>\n",
       "    </tr>\n",
       "  </tbody>\n",
       "</table>\n",
       "</div>"
      ],
      "text/plain": [
       "       squareMeters  numberOfRooms       hasYard       hasPool        floors  \\\n",
       "count  10000.000000   10000.000000  10000.000000  10000.000000  10000.000000   \n",
       "mean       0.498260       0.498570      0.508700      0.496800      0.497740   \n",
       "std        0.288003       0.291078      0.499949      0.500015      0.291810   \n",
       "min        0.000000       0.000000      0.000000      0.000000      0.000000   \n",
       "25%        0.250320       0.242424      0.000000      0.000000      0.242424   \n",
       "50%        0.500616       0.494949      1.000000      0.000000      0.494949   \n",
       "75%        0.745879       0.747475      1.000000      1.000000      0.757576   \n",
       "max        1.000000       1.000000      1.000000      1.000000      1.000000   \n",
       "\n",
       "       cityPartRange  numPrevOwners          made    isNewBuilt  \\\n",
       "count   10000.000000   10000.000000  10000.000000  10000.000000   \n",
       "mean        0.501122       0.502411      0.499629      0.499100   \n",
       "std         0.319114       0.317407      0.300261      0.500024   \n",
       "min         0.000000       0.000000      0.000000      0.000000   \n",
       "25%         0.222222       0.222222      0.225806      0.000000   \n",
       "50%         0.444444       0.444444      0.500000      0.000000   \n",
       "75%         0.777778       0.777778      0.774194      1.000000   \n",
       "max         1.000000       1.000000      1.000000      1.000000   \n",
       "\n",
       "       hasStormProtector      basement         attic        garage  \\\n",
       "count       10000.000000  10000.000000  10000.000000  10000.000000   \n",
       "mean            0.499900      0.503310      0.502751      0.503468   \n",
       "std             0.500025      0.287673      0.289462      0.291167   \n",
       "min             0.000000      0.000000      0.000000      0.000000   \n",
       "25%             0.000000      0.255975      0.251125      0.253056   \n",
       "50%             0.000000      0.509250      0.504450      0.504444   \n",
       "75%             1.000000      0.751125      0.754025      0.752500   \n",
       "max             1.000000      1.000000      1.000000      1.000000   \n",
       "\n",
       "       hasStorageRoom  hasGuestRoom         price  \n",
       "count    10000.000000  10000.000000  10000.000000  \n",
       "mean         0.503000      0.499460      0.498490  \n",
       "std          0.500016      0.317641      0.287844  \n",
       "min          0.000000      0.000000      0.000000  \n",
       "25%          0.000000      0.200000      0.250698  \n",
       "50%          1.000000      0.500000      0.500764  \n",
       "75%          1.000000      0.800000      0.746142  \n",
       "max          1.000000      1.000000      1.000000  "
      ]
     },
     "execution_count": 55,
     "metadata": {},
     "output_type": "execute_result"
    }
   ],
   "source": [
    "minMaxScaler = MinMaxScaler()\n",
    "scaledColums = pd.DataFrame(minMaxScaler.fit_transform(dfhouse[willScale]),columns=willScale)\n",
    "scaledColums.describe()"
   ]
  },
  {
   "cell_type": "code",
   "execution_count": 56,
   "id": "c8882b79",
   "metadata": {},
   "outputs": [],
   "source": [
    "target = [\"category\"]\n",
    "features = dfhouse.columns.drop(target)\n",
    "train,test = train_test_split(dfhouse,test_size = 0.33,random_state= 12)\n",
    "xTrain = train[features]\n",
    "yTrain = train[target]\n",
    "xTest  = test[features]\n",
    "yTest = test[target]"
   ]
  },
  {
   "cell_type": "code",
   "execution_count": 57,
   "id": "a6b5f518",
   "metadata": {},
   "outputs": [
    {
     "data": {
      "text/plain": [
       "KNeighborsClassifier(n_neighbors=4)"
      ]
     },
     "execution_count": 57,
     "metadata": {},
     "output_type": "execute_result"
    }
   ],
   "source": [
    "knnModel = KNeighborsClassifier(n_neighbors=4) \n",
    "knnModel.fit(xTrain,yTrain.values.ravel())"
   ]
  },
  {
   "cell_type": "code",
   "execution_count": 58,
   "id": "8fbcbcf0",
   "metadata": {},
   "outputs": [
    {
     "data": {
      "text/plain": [
       "0.8618181818181818"
      ]
     },
     "execution_count": 58,
     "metadata": {},
     "output_type": "execute_result"
    }
   ],
   "source": [
    "yPred= knnModel.predict(xTest)\n",
    "accuracy_score(yTest,yPred)"
   ]
  },
  {
   "cell_type": "code",
   "execution_count": 59,
   "id": "48a640c6",
   "metadata": {},
   "outputs": [
    {
     "name": "stdout",
     "output_type": "stream",
     "text": [
      "              precision    recall  f1-score   support\n",
      "\n",
      "       Basic       0.87      0.99      0.93      2868\n",
      "      Luxury       0.00      0.00      0.00       432\n",
      "\n",
      "    accuracy                           0.86      3300\n",
      "   macro avg       0.43      0.50      0.46      3300\n",
      "weighted avg       0.75      0.86      0.80      3300\n",
      "\n"
     ]
    }
   ],
   "source": [
    "print(classification_report(yTest,yPred))"
   ]
  },
  {
   "cell_type": "code",
   "execution_count": 60,
   "id": "47a5843a",
   "metadata": {},
   "outputs": [
    {
     "data": {
      "text/plain": [
       "<AxesSubplot:>"
      ]
     },
     "execution_count": 60,
     "metadata": {},
     "output_type": "execute_result"
    },
    {
     "data": {
      "image/png": "[encoded data removed]",
      "text/plain": [
       "<Figure size 432x288 with 2 Axes>"
      ]
     },
     "metadata": {
      "needs_background": "light"
     },
     "output_type": "display_data"
    }
   ],
   "source": [
    "sns.heatmap(confusion_matrix(yTest,yPred),annot=True)"
   ]
  },
  {
   "cell_type": "code",
   "execution_count": 61,
   "id": "561d7529",
   "metadata": {},
   "outputs": [
    {
     "data": {
      "text/plain": [
       "DecisionTreeClassifier()"
      ]
     },
     "execution_count": 61,
     "metadata": {},
     "output_type": "execute_result"
    }
   ],
   "source": [
    "dTree = DecisionTreeClassifier()\n",
    "dTree.fit(xTrain, yTrain)"
   ]
  },
  {
   "cell_type": "code",
   "execution_count": 62,
   "id": "41482dcb",
   "metadata": {},
   "outputs": [
    {
     "data": {
      "image/png": "[encoded data removed]",
      "text/plain": [
       "<Figure size 864x864 with 1 Axes>"
      ]
     },
     "metadata": {
      "needs_background": "light"
     },
     "output_type": "display_data"
    }
   ],
   "source": [
    "plt.figure(figsize=(12,12))\n",
    "plot_tree(dTree, fontsize=10)\n",
    "plt.show()"
   ]
  },
  {
   "cell_type": "code",
   "execution_count": 63,
   "id": "7f53f62d",
   "metadata": {},
   "outputs": [
    {
     "name": "stdout",
     "output_type": "stream",
     "text": [
      "              precision    recall  f1-score   support\n",
      "\n",
      "       Basic       1.00      1.00      1.00      2868\n",
      "      Luxury       1.00      1.00      1.00       432\n",
      "\n",
      "    accuracy                           1.00      3300\n",
      "   macro avg       1.00      1.00      1.00      3300\n",
      "weighted avg       1.00      1.00      1.00      3300\n",
      "\n"
     ]
    }
   ],
   "source": [
    "yPred = dTree.predict(xTest)\n",
    "print(classification_report(yTest,yPred))"
   ]
  },
  {
   "cell_type": "code",
   "execution_count": 64,
   "id": "1cebabf9",
   "metadata": {},
   "outputs": [
    {
     "data": {
      "text/plain": [
       "1.0"
      ]
     },
     "execution_count": 64,
     "metadata": {},
     "output_type": "execute_result"
    }
   ],
   "source": [
    "yPred= dTree.predict(xTest)\n",
    "accuracy_score(yTest,yPred)"
   ]
  },
  {
   "cell_type": "code",
   "execution_count": 65,
   "id": "ac3f9439",
   "metadata": {},
   "outputs": [
    {
     "data": {
      "text/plain": [
       "<AxesSubplot:>"
      ]
     },
     "execution_count": 65,
     "metadata": {},
     "output_type": "execute_result"
    },
    {
     "data": {
      "image/png": "[encoded data removed]",
      "text/plain": [
       "<Figure size 432x288 with 2 Axes>"
      ]
     },
     "metadata": {
      "needs_background": "light"
     },
     "output_type": "display_data"
    }
   ],
   "source": [
    "sns.heatmap(confusion_matrix(yTest,yPred),annot=True)"
   ]
  },
  {
   "cell_type": "code",
   "execution_count": 66,
   "id": "df9ac0a2",
   "metadata": {},
   "outputs": [
    {
     "data": {
      "text/plain": [
       "SVC(C=100, gamma=0.01)"
      ]
     },
     "execution_count": 66,
     "metadata": {},
     "output_type": "execute_result"
    }
   ],
   "source": [
    "SVC_clsfr = SVC(kernel='rbf', C=100, gamma=0.01)\n",
    "SVC_clsfr.fit(xTrain,yTrain.values.ravel())"
   ]
  },
  {
   "cell_type": "code",
   "execution_count": 67,
   "id": "9029f51e",
   "metadata": {},
   "outputs": [
    {
     "data": {
      "text/plain": [
       "0.8690909090909091"
      ]
     },
     "execution_count": 67,
     "metadata": {},
     "output_type": "execute_result"
    }
   ],
   "source": [
    "yPred= SVC_clsfr.predict(xTest)\n",
    "accuracy_score(yTest,yPred)"
   ]
  },
  {
   "cell_type": "code",
   "execution_count": 68,
   "id": "5fd7e2a6",
   "metadata": {},
   "outputs": [
    {
     "name": "stdout",
     "output_type": "stream",
     "text": [
      "              precision    recall  f1-score   support\n",
      "\n",
      "       Basic       0.87      1.00      0.93      2868\n",
      "      Luxury       0.00      0.00      0.00       432\n",
      "\n",
      "    accuracy                           0.87      3300\n",
      "   macro avg       0.43      0.50      0.46      3300\n",
      "weighted avg       0.76      0.87      0.81      3300\n",
      "\n"
     ]
    }
   ],
   "source": [
    "print(classification_report(yTest,yPred,zero_division=0))"
   ]
  },
  {
   "cell_type": "code",
   "execution_count": 69,
   "id": "6e1446ff",
   "metadata": {},
   "outputs": [
    {
     "data": {
      "text/plain": [
       "<AxesSubplot:>"
      ]
     },
     "execution_count": 69,
     "metadata": {},
     "output_type": "execute_result"
    },
    {
     "data": {
      "image/png": "[encoded data removed]",
      "text/plain": [
       "<Figure size 432x288 with 2 Axes>"
      ]
     },
     "metadata": {
      "needs_background": "light"
     },
     "output_type": "display_data"
    }
   ],
   "source": [
    "sns.heatmap(confusion_matrix(yTest,yPred),annot=True)"
   ]
  },
  {
   "cell_type": "code",
   "execution_count": 72,
   "id": "5dd28050",
   "metadata": {},
   "outputs": [
    {
     "data": {
      "text/plain": [
       "RandomForestClassifier(n_estimators=15)"
      ]
     },
     "execution_count": 72,
     "metadata": {},
     "output_type": "execute_result"
    }
   ],
   "source": [
    "rForest = RandomForestClassifier(n_estimators = 15)\n",
    "rForest.fit(xTrain,yTrain.values.ravel())"
   ]
  },
  {
   "cell_type": "code",
   "execution_count": 73,
   "id": "7ab3c3d9",
   "metadata": {},
   "outputs": [
    {
     "data": {
      "text/plain": [
       "1.0"
      ]
     },
     "execution_count": 73,
     "metadata": {},
     "output_type": "execute_result"
    }
   ],
   "source": [
    "yPred= rForest.predict(xTest)\n",
    "accuracy_score(yTest,yPred)"
   ]
  },
  {
   "cell_type": "code",
   "execution_count": 74,
   "id": "2d54b3c1",
   "metadata": {},
   "outputs": [
    {
     "name": "stdout",
     "output_type": "stream",
     "text": [
      "              precision    recall  f1-score   support\n",
      "\n",
      "       Basic       1.00      1.00      1.00      2868\n",
      "      Luxury       1.00      1.00      1.00       432\n",
      "\n",
      "    accuracy                           1.00      3300\n",
      "   macro avg       1.00      1.00      1.00      3300\n",
      "weighted avg       1.00      1.00      1.00      3300\n",
      "\n"
     ]
    }
   ],
   "source": [
    "print(classification_report(yTest,yPred))"
   ]
  },
  {
   "cell_type": "code",
   "execution_count": 75,
   "id": "070ca8cf",
   "metadata": {},
   "outputs": [
    {
     "data": {
      "text/plain": [
       "<AxesSubplot:>"
      ]
     },
     "execution_count": 75,
     "metadata": {},
     "output_type": "execute_result"
    },
    {
     "data": {
      "image/png": "[encoded data removed]",
      "text/plain": [
       "<Figure size 432x288 with 2 Axes>"
      ]
     },
     "metadata": {
      "needs_background": "light"
     },
     "output_type": "display_data"
    }
   ],
   "source": [
    "sns.heatmap(confusion_matrix(yTest,yPred),annot=True)"
   ]
  },
  {
   "cell_type": "code",
   "execution_count": 76,
   "id": "bdd05688",
   "metadata": {},
   "outputs": [
    {
     "data": {
      "text/plain": [
       "AdaBoostClassifier(learning_rate=0.1, n_estimators=20)"
      ]
     },
     "execution_count": 76,
     "metadata": {},
     "output_type": "execute_result"
    }
   ],
   "source": [
    "AdaB = AdaBoostClassifier(n_estimators=20, learning_rate=0.1)\n",
    "AdaB.fit(xTrain,yTrain.values.ravel())"
   ]
  },
  {
   "cell_type": "code",
   "execution_count": 77,
   "id": "b62881fe",
   "metadata": {},
   "outputs": [
    {
     "data": {
      "text/plain": [
       "1.0"
      ]
     },
     "execution_count": 77,
     "metadata": {},
     "output_type": "execute_result"
    }
   ],
   "source": [
    "yPred= AdaB.predict(xTest)\n",
    "accuracy_score(yTest,yPred)"
   ]
  },
  {
   "cell_type": "code",
   "execution_count": 78,
   "id": "3d80dfb6",
   "metadata": {},
   "outputs": [
    {
     "name": "stdout",
     "output_type": "stream",
     "text": [
      "              precision    recall  f1-score   support\n",
      "\n",
      "       Basic       1.00      1.00      1.00      2868\n",
      "      Luxury       1.00      1.00      1.00       432\n",
      "\n",
      "    accuracy                           1.00      3300\n",
      "   macro avg       1.00      1.00      1.00      3300\n",
      "weighted avg       1.00      1.00      1.00      3300\n",
      "\n"
     ]
    }
   ],
   "source": [
    "print(classification_report(yTest,yPred))"
   ]
  },
  {
   "cell_type": "code",
   "execution_count": 79,
   "id": "b7a2bbdb",
   "metadata": {},
   "outputs": [
    {
     "data": {
      "text/plain": [
       "<AxesSubplot:>"
      ]
     },
     "execution_count": 79,
     "metadata": {},
     "output_type": "execute_result"
    },
    {
     "data": {
      "image/png": "[encoded data removed]",
      "text/plain": [
       "<Figure size 432x288 with 2 Axes>"
      ]
     },
     "metadata": {
      "needs_background": "light"
     },
     "output_type": "display_data"
    }
   ],
   "source": [
    "sns.heatmap(confusion_matrix(yTest,yPred),annot=True)"
   ]
  },
  {
   "cell_type": "code",
   "execution_count": null,
   "id": "4f1f1d2d",
   "metadata": {},
   "outputs": [],
   "source": []
  },
  {
   "cell_type": "code",
   "execution_count": null,
   "id": "27b62cd3",
   "metadata": {},
   "outputs": [],
   "source": []
  }
 ],
 "metadata": {
  "kernelspec": {
   "display_name": "Python 3",
   "language": "python",
   "name": "python3"
  },
  "language_info": {
   "codemirror_mode": {
    "name": "ipython",
    "version": 3
   },
   "file_extension": ".py",
   "mimetype": "text/x-python",
   "name": "python",
   "nbconvert_exporter": "python",
   "pygments_lexer": "ipython3",
   "version": "3.8.8"
  }
 },
 "nbformat": 4,
 "nbformat_minor": 5
}
